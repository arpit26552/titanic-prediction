{
  "cells": [
    {
      "cell_type": "code",
      "source": [
        "import pickle\n",
        "import numpy as np"
      ],
      "metadata": {
        "id": "UrUsjSOuUJCV"
      },
      "execution_count": 7,
      "outputs": []
    },
    {
      "cell_type": "code",
      "source": [
        "import pickle\n",
        "\n",
        "ohe_sex = pickle.load(open('ohe_sex.pkl', 'rb'))\n",
        "ohe_embarked = pickle.load(open('ohe_embarked.pkl', 'rb'))\n",
        "clf = pickle.load(open('clf.pkl', 'rb'))\n"
      ],
      "metadata": {
        "id": "X9HXVNOIUS-Q"
      },
      "execution_count": 13,
      "outputs": []
    },
    {
      "cell_type": "code",
      "source": [
        "test_input = np.array([2, 'male', 31.0, 0, 0, 10.5, 'S'], dtype=object).reshape(1, 7)"
      ],
      "metadata": {
        "id": "-RCyUCnvUTAP"
      },
      "execution_count": 14,
      "outputs": []
    },
    {
      "cell_type": "code",
      "source": [
        "test_input"
      ],
      "metadata": {
        "id": "FA053DZ1UTDt",
        "outputId": "73e9b725-25ed-44a4-e432-8eed5ae3e719",
        "colab": {
          "base_uri": "https://localhost:8080/"
        }
      },
      "execution_count": 15,
      "outputs": [
        {
          "output_type": "execute_result",
          "data": {
            "text/plain": [
              "array([[2, 'male', 31.0, 0, 0, 10.5, 'S']], dtype=object)"
            ]
          },
          "metadata": {},
          "execution_count": 15
        }
      ]
    },
    {
      "cell_type": "code",
      "source": [
        "test_input_sex=ohe_sex.transform(test_input[:,1].reshape(1,1))"
      ],
      "metadata": {
        "id": "Eb6_1OIRVlbs",
        "outputId": "e6b2ee20-1144-496a-9529-ea393d8c53f3",
        "colab": {
          "base_uri": "https://localhost:8080/"
        }
      },
      "execution_count": 16,
      "outputs": [
        {
          "output_type": "stream",
          "name": "stderr",
          "text": [
            "/usr/local/lib/python3.11/dist-packages/sklearn/utils/validation.py:2739: UserWarning: X does not have valid feature names, but OneHotEncoder was fitted with feature names\n",
            "  warnings.warn(\n"
          ]
        }
      ]
    },
    {
      "cell_type": "code",
      "source": [
        "test_input_embarked=ohe_embarked.transform(test_input[:,-1].reshape(1,1))"
      ],
      "metadata": {
        "id": "eTtKfBzQVlec"
      },
      "execution_count": 18,
      "outputs": []
    },
    {
      "cell_type": "code",
      "source": [
        "test_input_age=test_input[:,2].reshape(1,1)"
      ],
      "metadata": {
        "id": "WBREDVubVlg9"
      },
      "execution_count": 19,
      "outputs": []
    },
    {
      "cell_type": "code",
      "source": [
        "test_input_transformed=np.concatenate((test_input[:,[0,3,4,5]],test_input_age,test_input_sex,test_input_embarked),axis=1)"
      ],
      "metadata": {
        "id": "8Ca-nNiiWFB0"
      },
      "execution_count": 20,
      "outputs": []
    },
    {
      "cell_type": "code",
      "source": [
        "test_input_transformed.shape"
      ],
      "metadata": {
        "id": "Nw46dcSwWhiu",
        "outputId": "9f6f9b9c-6975-4767-c624-82fdd58fd835",
        "colab": {
          "base_uri": "https://localhost:8080/"
        }
      },
      "execution_count": 23,
      "outputs": [
        {
          "output_type": "execute_result",
          "data": {
            "text/plain": [
              "(1, 10)"
            ]
          },
          "metadata": {},
          "execution_count": 23
        }
      ]
    },
    {
      "cell_type": "code",
      "source": [
        "clf.predict(test_input_transformed)"
      ],
      "metadata": {
        "id": "L5yysY2SWFF4",
        "outputId": "1141eddb-892a-42da-944a-28761254995f",
        "colab": {
          "base_uri": "https://localhost:8080/"
        }
      },
      "execution_count": 24,
      "outputs": [
        {
          "output_type": "execute_result",
          "data": {
            "text/plain": [
              "array([1])"
            ]
          },
          "metadata": {},
          "execution_count": 24
        }
      ]
    },
    {
      "cell_type": "code",
      "source": [],
      "metadata": {
        "id": "BKkNXHQIWFJj"
      },
      "execution_count": null,
      "outputs": []
    },
    {
      "cell_type": "code",
      "source": [],
      "metadata": {
        "id": "81dEQ4T3Vlkk"
      },
      "execution_count": null,
      "outputs": []
    }
  ],
  "metadata": {
    "colab": {
      "name": "Welcome To Colab",
      "provenance": []
    },
    "kernelspec": {
      "display_name": "Python 3",
      "name": "python3"
    }
  },
  "nbformat": 4,
  "nbformat_minor": 0
}